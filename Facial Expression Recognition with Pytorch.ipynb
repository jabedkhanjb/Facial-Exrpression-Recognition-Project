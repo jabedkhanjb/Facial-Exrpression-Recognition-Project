{
 "cells": [
  {
   "cell_type": "markdown",
   "id": "e7c7fb08",
   "metadata": {},
   "source": [
    "## Dataset Link\n",
    "https://www.kaggle.com/jonathanoheix/face-expression-recognition-dataset"
   ]
  },
  {
   "cell_type": "markdown",
   "id": "1f0cd230",
   "metadata": {},
   "source": [
    "### Install Libraries, Packages and dataset"
   ]
  },
  {
   "cell_type": "code",
   "execution_count": 4,
   "id": "9cd7a79b",
   "metadata": {},
   "outputs": [
    {
     "name": "stderr",
     "output_type": "stream",
     "text": [
      "python(20473) MallocStackLogging: can't turn off malloc stack logging because it was not enabled.\n"
     ]
    },
    {
     "name": "stdout",
     "output_type": "stream",
     "text": [
      "fatal: destination path 'Facial-Expression-Dataset' already exists and is not an empty directory.\r\n"
     ]
    }
   ],
   "source": [
    "!git clone https://github.com/parth1620/Facial-Expression-Dataset.git"
   ]
  },
  {
   "cell_type": "code",
   "execution_count": 5,
   "id": "1e4d2cd3",
   "metadata": {},
   "outputs": [
    {
     "name": "stderr",
     "output_type": "stream",
     "text": [
      "python(20476) MallocStackLogging: can't turn off malloc stack logging because it was not enabled.\n"
     ]
    },
    {
     "name": "stdout",
     "output_type": "stream",
     "text": [
      "Collecting git+https://github.com/albumentations-team/albumentations\n",
      "  Cloning https://github.com/albumentations-team/albumentations to /private/var/folders/_x/kvs2mx1s5bs08dcbp6_xfwfc0000gn/T/pip-req-build-nhnjsujt\n",
      "  Running command git clone --quiet https://github.com/albumentations-team/albumentations /private/var/folders/_x/kvs2mx1s5bs08dcbp6_xfwfc0000gn/T/pip-req-build-nhnjsujt\n",
      "  Resolved https://github.com/albumentations-team/albumentations to commit 82818a0c4a80924d9f903a656c7f549ec6ca9cb2\n",
      "  Preparing metadata (setup.py) ... \u001b[?25ldone\n",
      "\u001b[?25hRequirement already satisfied: numpy>=1.11.1 in /Users/jabedkhanjb/Anaconda/anaconda3/lib/python3.10/site-packages (from albumentations==1.3.1) (1.23.5)\n",
      "Requirement already satisfied: scipy>=1.1.0 in /Users/jabedkhanjb/Anaconda/anaconda3/lib/python3.10/site-packages (from albumentations==1.3.1) (1.10.0)\n",
      "Requirement already satisfied: scikit-image>=0.16.1 in /Users/jabedkhanjb/Anaconda/anaconda3/lib/python3.10/site-packages (from albumentations==1.3.1) (0.19.3)\n",
      "Requirement already satisfied: PyYAML in /Users/jabedkhanjb/Anaconda/anaconda3/lib/python3.10/site-packages (from albumentations==1.3.1) (6.0)\n",
      "Collecting qudida>=0.0.4 (from albumentations==1.3.1)\n",
      "  Downloading qudida-0.0.4-py3-none-any.whl (3.5 kB)\n",
      "Collecting opencv-python-headless>=4.1.1 (from albumentations==1.3.1)\n",
      "  Downloading opencv_python_headless-4.9.0.80-cp37-abi3-macosx_11_0_arm64.whl.metadata (20 kB)\n",
      "Requirement already satisfied: scikit-learn>=0.19.1 in /Users/jabedkhanjb/Anaconda/anaconda3/lib/python3.10/site-packages (from qudida>=0.0.4->albumentations==1.3.1) (1.2.1)\n",
      "Requirement already satisfied: typing-extensions in /Users/jabedkhanjb/Anaconda/anaconda3/lib/python3.10/site-packages (from qudida>=0.0.4->albumentations==1.3.1) (4.4.0)\n",
      "Requirement already satisfied: networkx>=2.2 in /Users/jabedkhanjb/Anaconda/anaconda3/lib/python3.10/site-packages (from scikit-image>=0.16.1->albumentations==1.3.1) (2.8.4)\n",
      "Requirement already satisfied: pillow!=7.1.0,!=7.1.1,!=8.3.0,>=6.1.0 in /Users/jabedkhanjb/Anaconda/anaconda3/lib/python3.10/site-packages (from scikit-image>=0.16.1->albumentations==1.3.1) (9.4.0)\n",
      "Requirement already satisfied: imageio>=2.4.1 in /Users/jabedkhanjb/Anaconda/anaconda3/lib/python3.10/site-packages (from scikit-image>=0.16.1->albumentations==1.3.1) (2.26.0)\n",
      "Requirement already satisfied: tifffile>=2019.7.26 in /Users/jabedkhanjb/Anaconda/anaconda3/lib/python3.10/site-packages (from scikit-image>=0.16.1->albumentations==1.3.1) (2021.7.2)\n",
      "Requirement already satisfied: PyWavelets>=1.1.1 in /Users/jabedkhanjb/Anaconda/anaconda3/lib/python3.10/site-packages (from scikit-image>=0.16.1->albumentations==1.3.1) (1.4.1)\n",
      "Requirement already satisfied: packaging>=20.0 in /Users/jabedkhanjb/Anaconda/anaconda3/lib/python3.10/site-packages (from scikit-image>=0.16.1->albumentations==1.3.1) (22.0)\n",
      "Requirement already satisfied: joblib>=1.1.1 in /Users/jabedkhanjb/Anaconda/anaconda3/lib/python3.10/site-packages (from scikit-learn>=0.19.1->qudida>=0.0.4->albumentations==1.3.1) (1.1.1)\n",
      "Requirement already satisfied: threadpoolctl>=2.0.0 in /Users/jabedkhanjb/Anaconda/anaconda3/lib/python3.10/site-packages (from scikit-learn>=0.19.1->qudida>=0.0.4->albumentations==1.3.1) (2.2.0)\n",
      "Downloading opencv_python_headless-4.9.0.80-cp37-abi3-macosx_11_0_arm64.whl (35.4 MB)\n",
      "\u001b[2K   \u001b[90m━━━━━━━━━━━━━━━━━━━━━━━━━━━━━━━━━━━━━━━━\u001b[0m \u001b[32m35.4/35.4 MB\u001b[0m \u001b[31m605.4 kB/s\u001b[0m eta \u001b[36m0:00:00\u001b[0m00:01\u001b[0m00:02\u001b[0m\n",
      "\u001b[?25hBuilding wheels for collected packages: albumentations\n",
      "  Building wheel for albumentations (setup.py) ... \u001b[?25ldone\n",
      "\u001b[?25h  Created wheel for albumentations: filename=albumentations-1.3.1-py3-none-any.whl size=125877 sha256=b168e7ec37457264cffa421c8a079c2fd8c07779ce378355cd4303c60582bbce\n",
      "  Stored in directory: /private/var/folders/_x/kvs2mx1s5bs08dcbp6_xfwfc0000gn/T/pip-ephem-wheel-cache-0a6fuh8t/wheels/51/4d/ab/5aafa8b980086fbc362946de7da4aa3df33aacb3da0da29b93\n",
      "Successfully built albumentations\n",
      "Installing collected packages: opencv-python-headless, qudida, albumentations\n",
      "Successfully installed albumentations-1.3.1 opencv-python-headless-4.9.0.80 qudida-0.0.4\n"
     ]
    }
   ],
   "source": [
    "!pip install -U git+https://github.com/albumentations-team/albumentations"
   ]
  },
  {
   "cell_type": "code",
   "execution_count": 3,
   "id": "c6098f67",
   "metadata": {},
   "outputs": [
    {
     "name": "stdout",
     "output_type": "stream",
     "text": [
      "Collecting timm\n",
      "  Downloading timm-0.9.12-py3-none-any.whl.metadata (60 kB)\n",
      "\u001b[2K     \u001b[90m━━━━━━━━━━━━━━━━━━━━━━━━━━━━━━━━━━━━━━━\u001b[0m \u001b[32m60.6/60.6 kB\u001b[0m \u001b[31m572.3 kB/s\u001b[0m eta \u001b[36m0:00:00\u001b[0ma \u001b[36m0:00:01\u001b[0m\n",
      "\u001b[?25hRequirement already satisfied: torch>=1.7 in /Users/jabedkhanjb/Anaconda/anaconda3/lib/python3.10/site-packages (from timm) (1.12.1)\n",
      "Collecting torchvision (from timm)\n",
      "  Downloading torchvision-0.16.2-cp310-cp310-macosx_11_0_arm64.whl.metadata (6.6 kB)\n",
      "Requirement already satisfied: pyyaml in /Users/jabedkhanjb/Anaconda/anaconda3/lib/python3.10/site-packages (from timm) (6.0)\n",
      "Requirement already satisfied: huggingface-hub in /Users/jabedkhanjb/Anaconda/anaconda3/lib/python3.10/site-packages (from timm) (0.10.1)\n",
      "Collecting safetensors (from timm)\n",
      "  Downloading safetensors-0.4.1-cp310-cp310-macosx_11_0_arm64.whl.metadata (3.8 kB)\n",
      "Requirement already satisfied: typing_extensions in /Users/jabedkhanjb/Anaconda/anaconda3/lib/python3.10/site-packages (from torch>=1.7->timm) (4.4.0)\n",
      "Requirement already satisfied: filelock in /Users/jabedkhanjb/Anaconda/anaconda3/lib/python3.10/site-packages (from huggingface-hub->timm) (3.13.1)\n",
      "Requirement already satisfied: requests in /Users/jabedkhanjb/Anaconda/anaconda3/lib/python3.10/site-packages (from huggingface-hub->timm) (2.28.1)\n",
      "Requirement already satisfied: tqdm in /Users/jabedkhanjb/Anaconda/anaconda3/lib/python3.10/site-packages (from huggingface-hub->timm) (4.64.1)\n",
      "Requirement already satisfied: packaging>=20.9 in /Users/jabedkhanjb/Anaconda/anaconda3/lib/python3.10/site-packages (from huggingface-hub->timm) (22.0)\n",
      "Requirement already satisfied: numpy in /Users/jabedkhanjb/Anaconda/anaconda3/lib/python3.10/site-packages (from torchvision->timm) (1.23.5)\n",
      "Collecting torch>=1.7 (from timm)\n",
      "  Downloading torch-2.1.2-cp310-none-macosx_11_0_arm64.whl.metadata (25 kB)\n",
      "Requirement already satisfied: pillow!=8.3.*,>=5.3.0 in /Users/jabedkhanjb/Anaconda/anaconda3/lib/python3.10/site-packages (from torchvision->timm) (9.4.0)\n",
      "Requirement already satisfied: sympy in /Users/jabedkhanjb/Anaconda/anaconda3/lib/python3.10/site-packages (from torch>=1.7->timm) (1.11.1)\n",
      "Requirement already satisfied: networkx in /Users/jabedkhanjb/Anaconda/anaconda3/lib/python3.10/site-packages (from torch>=1.7->timm) (2.8.4)\n",
      "Requirement already satisfied: jinja2 in /Users/jabedkhanjb/Anaconda/anaconda3/lib/python3.10/site-packages (from torch>=1.7->timm) (3.1.2)\n",
      "Requirement already satisfied: fsspec in /Users/jabedkhanjb/Anaconda/anaconda3/lib/python3.10/site-packages (from torch>=1.7->timm) (2022.11.0)\n",
      "Requirement already satisfied: MarkupSafe>=2.0 in /Users/jabedkhanjb/Anaconda/anaconda3/lib/python3.10/site-packages (from jinja2->torch>=1.7->timm) (2.1.1)\n",
      "Requirement already satisfied: charset-normalizer<3,>=2 in /Users/jabedkhanjb/Anaconda/anaconda3/lib/python3.10/site-packages (from requests->huggingface-hub->timm) (2.0.4)\n",
      "Requirement already satisfied: idna<4,>=2.5 in /Users/jabedkhanjb/Anaconda/anaconda3/lib/python3.10/site-packages (from requests->huggingface-hub->timm) (3.4)\n",
      "Requirement already satisfied: urllib3<1.27,>=1.21.1 in /Users/jabedkhanjb/Anaconda/anaconda3/lib/python3.10/site-packages (from requests->huggingface-hub->timm) (1.26.14)\n",
      "Requirement already satisfied: certifi>=2017.4.17 in /Users/jabedkhanjb/Anaconda/anaconda3/lib/python3.10/site-packages (from requests->huggingface-hub->timm) (2023.7.22)\n",
      "Requirement already satisfied: mpmath>=0.19 in /Users/jabedkhanjb/Anaconda/anaconda3/lib/python3.10/site-packages/mpmath-1.2.1-py3.10.egg (from sympy->torch>=1.7->timm) (1.2.1)\n",
      "Downloading timm-0.9.12-py3-none-any.whl (2.2 MB)\n",
      "\u001b[2K   \u001b[90m━━━━━━━━━━━━━━━━━━━━━━━━━━━━━━━━━━━━━━━━\u001b[0m \u001b[32m2.2/2.2 MB\u001b[0m \u001b[31m648.3 kB/s\u001b[0m eta \u001b[36m0:00:00\u001b[0m00:01\u001b[0m00:01\u001b[0m\n",
      "\u001b[?25hDownloading safetensors-0.4.1-cp310-cp310-macosx_11_0_arm64.whl (426 kB)\n",
      "\u001b[2K   \u001b[90m━━━━━━━━━━━━━━━━━━━━━━━━━━━━━━━━━━━━━━━\u001b[0m \u001b[32m426.2/426.2 kB\u001b[0m \u001b[31m703.9 kB/s\u001b[0m eta \u001b[36m0:00:00\u001b[0ma \u001b[36m0:00:01\u001b[0m\n",
      "\u001b[?25hDownloading torchvision-0.16.2-cp310-cp310-macosx_11_0_arm64.whl (1.5 MB)\n",
      "\u001b[2K   \u001b[90m━━━━━━━━━━━━━━━━━━━━━━━━━━━━━━━━━━━━━━━━\u001b[0m \u001b[32m1.5/1.5 MB\u001b[0m \u001b[31m434.7 kB/s\u001b[0m eta \u001b[36m0:00:00\u001b[0m00:01\u001b[0m00:01\u001b[0m\n",
      "\u001b[?25hDownloading torch-2.1.2-cp310-none-macosx_11_0_arm64.whl (59.6 MB)\n",
      "\u001b[2K   \u001b[90m━━━━━━━━━━━━━━━━━━━━━━━━━━━━━━━━━━━━━━━━\u001b[0m \u001b[32m59.6/59.6 MB\u001b[0m \u001b[31m449.9 kB/s\u001b[0m eta \u001b[36m0:00:00\u001b[0m00:01\u001b[0m00:04\u001b[0m\n",
      "\u001b[?25hInstalling collected packages: safetensors, torch, torchvision, timm\n",
      "  Attempting uninstall: torch\n",
      "    Found existing installation: torch 1.12.1\n",
      "    Uninstalling torch-1.12.1:\n",
      "      Successfully uninstalled torch-1.12.1\n",
      "Successfully installed safetensors-0.4.1 timm-0.9.12 torch-2.1.2 torchvision-0.16.2\n"
     ]
    }
   ],
   "source": [
    "!pip install timm"
   ]
  },
  {
   "cell_type": "code",
   "execution_count": 6,
   "id": "ac478d4d",
   "metadata": {},
   "outputs": [
    {
     "name": "stderr",
     "output_type": "stream",
     "text": [
      "python(20534) MallocStackLogging: can't turn off malloc stack logging because it was not enabled.\n"
     ]
    },
    {
     "name": "stdout",
     "output_type": "stream",
     "text": [
      "Collecting opencv-contrib-python\n",
      "  Downloading opencv_contrib_python-4.9.0.80-cp37-abi3-macosx_11_0_arm64.whl.metadata (20 kB)\n",
      "Requirement already satisfied: numpy>=1.21.2 in /Users/jabedkhanjb/Anaconda/anaconda3/lib/python3.10/site-packages (from opencv-contrib-python) (1.23.5)\n",
      "Downloading opencv_contrib_python-4.9.0.80-cp37-abi3-macosx_11_0_arm64.whl (44.2 MB)\n",
      "\u001b[2K   \u001b[90m━━━━━━━━━━━━━━━━━━━━━━━━━━━━━━━━━━━━━━━━\u001b[0m \u001b[32m44.2/44.2 MB\u001b[0m \u001b[31m600.4 kB/s\u001b[0m eta \u001b[36m0:00:00\u001b[0m00:01\u001b[0m00:07\u001b[0m\n",
      "\u001b[?25hInstalling collected packages: opencv-contrib-python\n",
      "Successfully installed opencv-contrib-python-4.9.0.80\n"
     ]
    }
   ],
   "source": [
    "!pip install --upgrade opencv-contrib-python"
   ]
  },
  {
   "cell_type": "markdown",
   "id": "0f804e28",
   "metadata": {},
   "source": [
    "# Imports"
   ]
  },
  {
   "cell_type": "code",
   "execution_count": 7,
   "id": "817ce84f",
   "metadata": {},
   "outputs": [],
   "source": [
    "import numpy as np\n",
    "import matplotlib.pyplot as plt\n",
    "import torch"
   ]
  },
  {
   "cell_type": "code",
   "execution_count": 8,
   "id": "744d9775",
   "metadata": {},
   "outputs": [],
   "source": [
    "TRAIN_IMG_FOLDER_PATH = \"/Volumes/MacOS Disk 1/Mac Jupyter Notebook/Facial Expression ML/Facial-Expression-Dataset/train\"\n",
    "VALID_IMG_FOLDER_PATH = \"/Volumes/MacOS Disk 1/Mac Jupyter Notebook/Facial Expression ML/Facial-Expression-Dataset/validation\""
   ]
  },
  {
   "cell_type": "code",
   "execution_count": 9,
   "id": "89339527",
   "metadata": {},
   "outputs": [],
   "source": [
    "LR = 0.001\n",
    "BATCH_SIZE = 32\n",
    "APOCHS = 15\n",
    "\n",
    "DEVICE = 'cuda'\n",
    "MODEL_NAME = 'efficientnet_b0'"
   ]
  },
  {
   "cell_type": "markdown",
   "id": "25bdf733",
   "metadata": {},
   "source": [
    "Above this part is very important to conduct the whole project, we can change any parameter from this part to conduct our entire model better than before. "
   ]
  },
  {
   "cell_type": "markdown",
   "id": "bfd2ef7c",
   "metadata": {},
   "source": [
    "### Load Dataset"
   ]
  },
  {
   "cell_type": "code",
   "execution_count": 10,
   "id": "73bc1a72",
   "metadata": {},
   "outputs": [],
   "source": [
    "from torchvision.datasets import ImageFolder\n",
    "from torchvision import transforms as T"
   ]
  },
  {
   "cell_type": "code",
   "execution_count": 11,
   "id": "5e1cffd8",
   "metadata": {},
   "outputs": [],
   "source": [
    "train_augs = T.Compose([\n",
    "    T.RandomHorizontalFlip(p = 0.5),\n",
    "    T.RandomRotation(degrees=(-20, +20)),\n",
    "    T.ToTensor() #PIL / numpy arr -> torch tensor -> (h, w, c) -> (c, h, w)\n",
    "])\n",
    "\n",
    "valid_augs = T.Compose([\n",
    "    T.ToTensor()\n",
    "])"
   ]
  },
  {
   "cell_type": "code",
   "execution_count": 13,
   "id": "589e672a",
   "metadata": {},
   "outputs": [],
   "source": [
    "trainset = ImageFolder(TRAIN_IMG_FOLDER_PATH, transform = train_augs)\n",
    "validset = ImageFolder(VALID_IMG_FOLDER_PATH, transform = train_augs)"
   ]
  },
  {
   "cell_type": "code",
   "execution_count": 14,
   "id": "2f58e406",
   "metadata": {},
   "outputs": [
    {
     "data": {
      "text/plain": [
       "28821"
      ]
     },
     "execution_count": 14,
     "metadata": {},
     "output_type": "execute_result"
    }
   ],
   "source": [
    "len(trainset)"
   ]
  },
  {
   "cell_type": "code",
   "execution_count": 15,
   "id": "2d0e01fe",
   "metadata": {},
   "outputs": [
    {
     "data": {
      "text/plain": [
       "7066"
      ]
     },
     "execution_count": 15,
     "metadata": {},
     "output_type": "execute_result"
    }
   ],
   "source": [
    "len(validset)"
   ]
  },
  {
   "cell_type": "code",
   "execution_count": 21,
   "id": "004e0440",
   "metadata": {},
   "outputs": [
    {
     "name": "stdout",
     "output_type": "stream",
     "text": [
      "\n",
      "    The total number of datasets is 35887,\n",
      "    where the training dataset has 28821 examples,\n",
      "    and the validation dataset has 7066 examples.\n",
      "    \n"
     ]
    }
   ],
   "source": [
    "print(f\"\"\"\n",
    "    The total number of datasets is {len(trainset) + len(validset)},\n",
    "    where the training dataset has {len(trainset)} examples,\n",
    "    and the validation dataset has {len(validset)} examples.\n",
    "    \"\"\")\n"
   ]
  },
  {
   "cell_type": "markdown",
   "id": "fa5132f5",
   "metadata": {},
   "source": [
    "### Plot the images"
   ]
  },
  {
   "cell_type": "code",
   "execution_count": 25,
   "id": "b0e8dad7",
   "metadata": {},
   "outputs": [
    {
     "name": "stdout",
     "output_type": "stream",
     "text": [
      "{'angry': 0, 'disgust': 1, 'fear': 2, 'happy': 3, 'neutral': 4, 'sad': 5, 'surprise': 6}\n"
     ]
    }
   ],
   "source": [
    "print(trainset.class_to_idx)"
   ]
  },
  {
   "cell_type": "code",
   "execution_count": 31,
   "id": "8f2c531c",
   "metadata": {},
   "outputs": [
    {
     "data": {
      "image/png": "[encoded data removed]",
      "text/plain": [
       "<Figure size 640x480 with 1 Axes>"
      ]
     },
     "metadata": {},
     "output_type": "display_data"
    }
   ],
   "source": [
    "image, label = trainset[14]\n",
    "plt.imshow(image.permute(1,2,0)) #(image comes up with height, width and channel)\n",
    "plt.title(label);"
   ]
  },
  {
   "cell_type": "markdown",
   "id": "07ba545a",
   "metadata": {},
   "source": [
    "Here, we see a '0' in the title of the image, which represents the facial expression of the expression depicted in the image."
   ]
  },
  {
   "cell_type": "code",
   "execution_count": null,
   "id": "58e028d5",
   "metadata": {},
   "outputs": [],
   "source": []
  }
 ],
 "metadata": {
  "kernelspec": {
   "display_name": "Python 3 (ipykernel)",
   "language": "python",
   "name": "python3"
  },
  "language_info": {
   "codemirror_mode": {
    "name": "ipython",
    "version": 3
   },
   "file_extension": ".py",
   "mimetype": "text/x-python",
   "name": "python",
   "nbconvert_exporter": "python",
   "pygments_lexer": "ipython3",
   "version": "3.10.9"
  }
 },
 "nbformat": 4,
 "nbformat_minor": 5
}
